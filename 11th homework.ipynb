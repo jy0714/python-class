{
 "cells": [
  {
   "cell_type": "code",
   "execution_count": 2,
   "id": "9396e208-e600-4cda-8fe1-01d618064f9a",
   "metadata": {},
   "outputs": [
    {
     "data": {
      "text/plain": [
       "(2, 3)"
      ]
     },
     "execution_count": 2,
     "metadata": {},
     "output_type": "execute_result"
    }
   ],
   "source": [
    "import numpy as np\n",
    "\n",
    "a = np.array([[1, 2, 3],\n",
    "              [4, 5, 6]])\n",
    "a.shape\n"
   ]
  },
  {
   "cell_type": "code",
   "execution_count": 6,
   "id": "78329587-e65a-4cf2-a5fe-94ee9d05f471",
   "metadata": {},
   "outputs": [
    {
     "data": {
      "text/plain": [
       "array([1, 2, 3, 4, 5, 6])"
      ]
     },
     "execution_count": 6,
     "metadata": {},
     "output_type": "execute_result"
    }
   ],
   "source": [
    "a = np.array([1, 2, 3, 4, 5, 6])\n",
    "a"
   ]
  },
  {
   "cell_type": "code",
   "execution_count": 7,
   "id": "d7d8c3a4-f055-40b7-b178-7c985f6a2576",
   "metadata": {},
   "outputs": [
    {
     "data": {
      "text/plain": [
       "np.int64(1)"
      ]
     },
     "execution_count": 7,
     "metadata": {},
     "output_type": "execute_result"
    }
   ],
   "source": [
    "a[0]"
   ]
  },
  {
   "cell_type": "code",
   "execution_count": 8,
   "id": "8005fc18-2316-4ada-972c-627e09c11abc",
   "metadata": {},
   "outputs": [
    {
     "data": {
      "text/plain": [
       "array([10,  2,  3,  4,  5,  6])"
      ]
     },
     "execution_count": 8,
     "metadata": {},
     "output_type": "execute_result"
    }
   ],
   "source": [
    "a[0] = 10\n",
    "a"
   ]
  },
  {
   "cell_type": "code",
   "execution_count": 9,
   "id": "99777560-bbc9-41dd-aee0-d68fc7087075",
   "metadata": {},
   "outputs": [
    {
     "data": {
      "text/plain": [
       "array([10,  2,  3])"
      ]
     },
     "execution_count": 9,
     "metadata": {},
     "output_type": "execute_result"
    }
   ],
   "source": [
    "a[:3]"
   ]
  },
  {
   "cell_type": "code",
   "execution_count": 16,
   "id": "b2ae846f-f63f-4ed4-8171-86c3949dfbcf",
   "metadata": {},
   "outputs": [
    {
     "data": {
      "text/plain": [
       "array([4, 5, 6])"
      ]
     },
     "execution_count": 16,
     "metadata": {},
     "output_type": "execute_result"
    }
   ],
   "source": [
    "b = a[3:]\n",
    "b\n"
   ]
  },
  {
   "cell_type": "code",
   "execution_count": 17,
   "id": "997848a2-c546-4f57-b07f-a1376f596289",
   "metadata": {},
   "outputs": [
    {
     "data": {
      "text/plain": [
       "array([10,  2,  3, 40,  5,  6])"
      ]
     },
     "execution_count": 17,
     "metadata": {},
     "output_type": "execute_result"
    }
   ],
   "source": [
    "b[0] = 40\n",
    "a"
   ]
  },
  {
   "cell_type": "code",
   "execution_count": 18,
   "id": "ebaa2372-77c6-417e-a0c7-26ca9bcf4140",
   "metadata": {},
   "outputs": [
    {
     "data": {
      "text/plain": [
       "array([[ 1,  2,  3,  4],\n",
       "       [ 5,  6,  7,  8],\n",
       "       [ 9, 10, 11, 12]])"
      ]
     },
     "execution_count": 18,
     "metadata": {},
     "output_type": "execute_result"
    }
   ],
   "source": [
    "a = np.array([[1, 2, 3, 4], [5, 6, 7, 8], [9, 10, 11, 12]])\n",
    "a"
   ]
  },
  {
   "cell_type": "code",
   "execution_count": 20,
   "id": "51648352-920e-4544-a4fb-bd526e229ec5",
   "metadata": {},
   "outputs": [
    {
     "data": {
      "text/plain": [
       "np.int64(8)"
      ]
     },
     "execution_count": 20,
     "metadata": {},
     "output_type": "execute_result"
    }
   ],
   "source": [
    "a[1, 3]"
   ]
  },
  {
   "cell_type": "code",
   "execution_count": 21,
   "id": "a9073a5d-71fc-48a5-bbff-04fd22d88d34",
   "metadata": {},
   "outputs": [
    {
     "data": {
      "text/plain": [
       "2"
      ]
     },
     "execution_count": 21,
     "metadata": {},
     "output_type": "execute_result"
    }
   ],
   "source": [
    "a.ndim"
   ]
  },
  {
   "cell_type": "code",
   "execution_count": 22,
   "id": "b3ee515b-9dd2-4258-a6a8-de0e3a5fc643",
   "metadata": {},
   "outputs": [
    {
     "data": {
      "text/plain": [
       "(3, 4)"
      ]
     },
     "execution_count": 22,
     "metadata": {},
     "output_type": "execute_result"
    }
   ],
   "source": [
    "a.shape"
   ]
  },
  {
   "cell_type": "code",
   "execution_count": 23,
   "id": "51a40cb8-5262-473a-aff8-68d73a7eaa51",
   "metadata": {},
   "outputs": [
    {
     "data": {
      "text/plain": [
       "True"
      ]
     },
     "execution_count": 23,
     "metadata": {},
     "output_type": "execute_result"
    }
   ],
   "source": [
    "len(a.shape) == a.ndim"
   ]
  },
  {
   "cell_type": "code",
   "execution_count": 24,
   "id": "144206dd-8841-4666-9a8f-2ec7f5ec4b1c",
   "metadata": {},
   "outputs": [
    {
     "data": {
      "text/plain": [
       "12"
      ]
     },
     "execution_count": 24,
     "metadata": {},
     "output_type": "execute_result"
    }
   ],
   "source": [
    "a.size"
   ]
  },
  {
   "cell_type": "code",
   "execution_count": 25,
   "id": "946d3284-7f29-4ff1-afed-515878b37337",
   "metadata": {},
   "outputs": [
    {
     "data": {
      "text/plain": [
       "True"
      ]
     },
     "execution_count": 25,
     "metadata": {},
     "output_type": "execute_result"
    }
   ],
   "source": [
    "import math\n",
    "a.size == math.prod(a.shape)"
   ]
  },
  {
   "cell_type": "code",
   "execution_count": 26,
   "id": "85217930-e52d-48c8-8190-1ed39d27169d",
   "metadata": {},
   "outputs": [
    {
     "data": {
      "text/plain": [
       "dtype('int64')"
      ]
     },
     "execution_count": 26,
     "metadata": {},
     "output_type": "execute_result"
    }
   ],
   "source": [
    "a.dtype"
   ]
  },
  {
   "cell_type": "code",
   "execution_count": 27,
   "id": "89d3dc9d-5e8a-4902-8821-5af770e37afd",
   "metadata": {},
   "outputs": [
    {
     "data": {
      "text/plain": [
       "array([0., 0.])"
      ]
     },
     "execution_count": 27,
     "metadata": {},
     "output_type": "execute_result"
    }
   ],
   "source": [
    "np.zeros(2)"
   ]
  },
  {
   "cell_type": "code",
   "execution_count": 28,
   "id": "93dee5a7-76b9-45a4-b4de-1efc6e110af9",
   "metadata": {},
   "outputs": [
    {
     "data": {
      "text/plain": [
       "array([1., 1.])"
      ]
     },
     "execution_count": 28,
     "metadata": {},
     "output_type": "execute_result"
    }
   ],
   "source": [
    "np.ones(2)"
   ]
  },
  {
   "cell_type": "code",
   "execution_count": 29,
   "id": "51f2261e-1f13-432a-aeee-83e259825703",
   "metadata": {},
   "outputs": [
    {
     "data": {
      "text/plain": [
       "array([1., 1.])"
      ]
     },
     "execution_count": 29,
     "metadata": {},
     "output_type": "execute_result"
    }
   ],
   "source": [
    "np.empty(2) "
   ]
  },
  {
   "cell_type": "code",
   "execution_count": 30,
   "id": "2c30de13-dcd0-4ef7-8062-34329e5d0c78",
   "metadata": {},
   "outputs": [
    {
     "data": {
      "text/plain": [
       "array([0, 1, 2, 3])"
      ]
     },
     "execution_count": 30,
     "metadata": {},
     "output_type": "execute_result"
    }
   ],
   "source": [
    "np.arange(4)"
   ]
  },
  {
   "cell_type": "code",
   "execution_count": 31,
   "id": "7d517ca0-2f74-4ad2-9c54-161cd4248bdd",
   "metadata": {},
   "outputs": [
    {
     "data": {
      "text/plain": [
       "array([2, 4, 6, 8])"
      ]
     },
     "execution_count": 31,
     "metadata": {},
     "output_type": "execute_result"
    }
   ],
   "source": [
    "np.arange(2, 9, 2)"
   ]
  },
  {
   "cell_type": "code",
   "execution_count": 32,
   "id": "8f64db7f-3590-42b8-903d-1d21496d3fe3",
   "metadata": {},
   "outputs": [
    {
     "data": {
      "text/plain": [
       "array([ 0. ,  2.5,  5. ,  7.5, 10. ])"
      ]
     },
     "execution_count": 32,
     "metadata": {},
     "output_type": "execute_result"
    }
   ],
   "source": [
    "np.linspace(0, 10, num=5)"
   ]
  },
  {
   "cell_type": "code",
   "execution_count": 34,
   "id": "4a9206ca-6ed9-4aab-bbc7-d23f547696fe",
   "metadata": {},
   "outputs": [
    {
     "data": {
      "text/plain": [
       "array([1, 1])"
      ]
     },
     "execution_count": 34,
     "metadata": {},
     "output_type": "execute_result"
    }
   ],
   "source": [
    "x = np.ones(2, dtype=np.int64)\n",
    "x"
   ]
  },
  {
   "cell_type": "code",
   "execution_count": 36,
   "id": "4b8fed1e-cd48-46d1-9ea4-4b1d142491e7",
   "metadata": {},
   "outputs": [
    {
     "data": {
      "text/plain": [
       "array([1, 2, 3, 4, 5, 6, 7, 8])"
      ]
     },
     "execution_count": 36,
     "metadata": {},
     "output_type": "execute_result"
    }
   ],
   "source": [
    "arr = np.array([2, 1, 5, 3, 7, 4, 6, 8])\n",
    "np.sort(arr)"
   ]
  },
  {
   "cell_type": "code",
   "execution_count": 37,
   "id": "c5ddd4f0-00da-46f0-9672-36fbdfa06223",
   "metadata": {},
   "outputs": [
    {
     "data": {
      "text/plain": [
       "array([1, 2, 3, 4, 5, 6, 7, 8])"
      ]
     },
     "execution_count": 37,
     "metadata": {},
     "output_type": "execute_result"
    }
   ],
   "source": [
    "a = np.array([1, 2, 3, 4])\n",
    "b = np.array([5, 6, 7, 8])\n",
    "np.concatenate((a, b))"
   ]
  },
  {
   "cell_type": "code",
   "execution_count": 39,
   "id": "62c6cd6f-c03e-4a74-8571-b1677b179e55",
   "metadata": {},
   "outputs": [
    {
     "data": {
      "text/plain": [
       "array([[1, 2],\n",
       "       [3, 4],\n",
       "       [5, 6]])"
      ]
     },
     "execution_count": 39,
     "metadata": {},
     "output_type": "execute_result"
    }
   ],
   "source": [
    "x = np.array([[1, 2], [3, 4]])\n",
    "y = np.array([[5, 6]])\n",
    "np.concatenate((x, y), axis=0)"
   ]
  },
  {
   "cell_type": "code",
   "execution_count": 42,
   "id": "6a87fe0b-dce5-4b15-9788-01385165188b",
   "metadata": {},
   "outputs": [],
   "source": [
    "array_example = np.array([[[0, 1, 2, 3],[4, 5, 6, 7]],[[0, 1, 2, 3],[4, 5, 6, 7]],[[0 ,1 ,2, 3],[4, 5, 6, 7]]])"
   ]
  },
  {
   "cell_type": "code",
   "execution_count": 43,
   "id": "0ece66f3-2eb5-4e1f-a2e0-4743817d8a9b",
   "metadata": {},
   "outputs": [
    {
     "data": {
      "text/plain": [
       "3"
      ]
     },
     "execution_count": 43,
     "metadata": {},
     "output_type": "execute_result"
    }
   ],
   "source": [
    "array_example.ndim"
   ]
  },
  {
   "cell_type": "code",
   "execution_count": 44,
   "id": "e3b411bc-e927-4cce-b99d-72e336b441f8",
   "metadata": {},
   "outputs": [
    {
     "data": {
      "text/plain": [
       "(3, 2, 4)"
      ]
     },
     "execution_count": 44,
     "metadata": {},
     "output_type": "execute_result"
    }
   ],
   "source": [
    "array_example.shape\n"
   ]
  },
  {
   "cell_type": "code",
   "execution_count": 45,
   "id": "39f73d7b-aed3-4559-bd9c-a4c743328de8",
   "metadata": {},
   "outputs": [
    {
     "name": "stdout",
     "output_type": "stream",
     "text": [
      "[0 1 2 3 4 5]\n"
     ]
    }
   ],
   "source": [
    "a = np.arange(6)\n",
    "print(a)"
   ]
  },
  {
   "cell_type": "code",
   "execution_count": 46,
   "id": "41f7d72c-ce38-4fd2-be56-6417e284aa61",
   "metadata": {},
   "outputs": [
    {
     "name": "stdout",
     "output_type": "stream",
     "text": [
      "[[0 1]\n",
      " [2 3]\n",
      " [4 5]]\n"
     ]
    }
   ],
   "source": [
    "b = a.reshape(3, 2)\n",
    "print(b)"
   ]
  },
  {
   "cell_type": "code",
   "execution_count": 47,
   "id": "d7678a8d-fcee-48c0-ad87-1d497f592e83",
   "metadata": {},
   "outputs": [
    {
     "data": {
      "text/plain": [
       "array([[0, 1, 2, 3, 4, 5]])"
      ]
     },
     "execution_count": 47,
     "metadata": {},
     "output_type": "execute_result"
    }
   ],
   "source": [
    "np.reshape(a, shape=(1, 6), order='C')"
   ]
  },
  {
   "cell_type": "code",
   "execution_count": 48,
   "id": "365832a9-2526-4348-a8de-c4481ee0a236",
   "metadata": {},
   "outputs": [
    {
     "data": {
      "text/plain": [
       "(6,)"
      ]
     },
     "execution_count": 48,
     "metadata": {},
     "output_type": "execute_result"
    }
   ],
   "source": [
    "a = np.array([1, 2, 3, 4, 5, 6])\n",
    "a.shape"
   ]
  },
  {
   "cell_type": "code",
   "execution_count": 49,
   "id": "318937ab-6e66-4523-89ef-7989b16034ad",
   "metadata": {},
   "outputs": [
    {
     "data": {
      "text/plain": [
       "(1, 6)"
      ]
     },
     "execution_count": 49,
     "metadata": {},
     "output_type": "execute_result"
    }
   ],
   "source": [
    "a2 = a[np.newaxis, :]\n",
    "a2.shape"
   ]
  },
  {
   "cell_type": "code",
   "execution_count": 50,
   "id": "8c1ed0bb-dd77-44f1-9760-fafbf6bb5f91",
   "metadata": {},
   "outputs": [
    {
     "data": {
      "text/plain": [
       "(1, 6)"
      ]
     },
     "execution_count": 50,
     "metadata": {},
     "output_type": "execute_result"
    }
   ],
   "source": [
    "row_vector = a[np.newaxis, :]\n",
    "row_vector.shape"
   ]
  },
  {
   "cell_type": "code",
   "execution_count": 51,
   "id": "091a9f9c-a4df-4ea5-8e31-90f064be9811",
   "metadata": {},
   "outputs": [
    {
     "data": {
      "text/plain": [
       "(6, 1)"
      ]
     },
     "execution_count": 51,
     "metadata": {},
     "output_type": "execute_result"
    }
   ],
   "source": [
    "col_vector = a[:, np.newaxis]\n",
    "col_vector.shape"
   ]
  },
  {
   "cell_type": "code",
   "execution_count": 52,
   "id": "a8181541-c4b8-494e-b493-590c98aa0f10",
   "metadata": {},
   "outputs": [
    {
     "data": {
      "text/plain": [
       "(6,)"
      ]
     },
     "execution_count": 52,
     "metadata": {},
     "output_type": "execute_result"
    }
   ],
   "source": [
    "a = np.array([1, 2, 3, 4, 5, 6])\n",
    "a.shape"
   ]
  },
  {
   "cell_type": "code",
   "execution_count": 53,
   "id": "e2c0235f-90bc-4488-bb31-00acdec8453d",
   "metadata": {},
   "outputs": [
    {
     "data": {
      "text/plain": [
       "(6, 1)"
      ]
     },
     "execution_count": 53,
     "metadata": {},
     "output_type": "execute_result"
    }
   ],
   "source": [
    "b = np.expand_dims(a, axis=1)\n",
    "b.shape"
   ]
  },
  {
   "cell_type": "code",
   "execution_count": 54,
   "id": "74f748fd-5c4f-495b-b729-96bd4a379511",
   "metadata": {},
   "outputs": [
    {
     "data": {
      "text/plain": [
       "(1, 6)"
      ]
     },
     "execution_count": 54,
     "metadata": {},
     "output_type": "execute_result"
    }
   ],
   "source": [
    "c = np.expand_dims(a, axis=0)\n",
    "c.shape"
   ]
  },
  {
   "cell_type": "code",
   "execution_count": 59,
   "id": "bcfa46d7-ecf1-4546-85e0-624fabe0ab3f",
   "metadata": {},
   "outputs": [
    {
     "data": {
      "text/plain": [
       "array([2, 3])"
      ]
     },
     "execution_count": 59,
     "metadata": {},
     "output_type": "execute_result"
    }
   ],
   "source": [
    "data = np.array([1, 2, 3])\n",
    "\n",
    "#data[1]\n",
    "#data[0:2]\n",
    "#data[1:]\n",
    "data[-2:]"
   ]
  },
  {
   "cell_type": "code",
   "execution_count": 61,
   "id": "67fd68f5-a6b4-4c2c-acd8-530c0dcaaf37",
   "metadata": {},
   "outputs": [
    {
     "name": "stdout",
     "output_type": "stream",
     "text": [
      "[1 2 3 4]\n"
     ]
    }
   ],
   "source": [
    "a = np.array([[1 , 2, 3, 4], [5, 6, 7, 8], [9, 10, 11, 12]])\n",
    "print(a[a < 5])"
   ]
  },
  {
   "cell_type": "code",
   "execution_count": 62,
   "id": "ec82d8be-9584-4aa0-99ba-111ea37415e6",
   "metadata": {},
   "outputs": [
    {
     "name": "stdout",
     "output_type": "stream",
     "text": [
      "[ 5  6  7  8  9 10 11 12]\n"
     ]
    }
   ],
   "source": [
    "five_up = (a >= 5)\n",
    "print(a[five_up])"
   ]
  },
  {
   "cell_type": "code",
   "execution_count": 63,
   "id": "6e21afc0-a709-44e2-90dd-eedfadb046c1",
   "metadata": {},
   "outputs": [
    {
     "name": "stdout",
     "output_type": "stream",
     "text": [
      "[[False False False False]\n",
      " [ True  True  True  True]\n",
      " [ True  True  True  True]]\n"
     ]
    }
   ],
   "source": [
    "five_up = (a > 5) | (a == 5)\n",
    "print(five_up)"
   ]
  },
  {
   "cell_type": "code",
   "execution_count": 65,
   "id": "1f95d7ee-a415-4dd8-b059-13c0409f906f",
   "metadata": {},
   "outputs": [
    {
     "name": "stdout",
     "output_type": "stream",
     "text": [
      "(array([0, 0, 0, 0]), array([0, 1, 2, 3]))\n"
     ]
    }
   ],
   "source": [
    "a = np.array([[1, 2, 3, 4], [5, 6, 7, 8], [9, 10, 11, 12]])\n",
    "b = np.nonzero(a < 5)\n",
    "print(b)"
   ]
  },
  {
   "cell_type": "code",
   "execution_count": 67,
   "id": "776c6639-6da6-45c8-bb9c-a26e33f6527f",
   "metadata": {},
   "outputs": [
    {
     "name": "stdout",
     "output_type": "stream",
     "text": [
      "(np.int64(0), np.int64(0))\n",
      "(np.int64(0), np.int64(1))\n",
      "(np.int64(0), np.int64(2))\n",
      "(np.int64(0), np.int64(3))\n"
     ]
    }
   ],
   "source": [
    "list_of_coordinates= list(zip(b[0], b[1]))\n",
    "\n",
    "for coord in list_of_coordinates:\n",
    "    print(coord)"
   ]
  },
  {
   "cell_type": "code",
   "execution_count": 68,
   "id": "6b990e08-9a56-4900-80f8-642ebf66a833",
   "metadata": {},
   "outputs": [
    {
     "name": "stdout",
     "output_type": "stream",
     "text": [
      "[1 2 3 4]\n"
     ]
    }
   ],
   "source": [
    "print(a[b])"
   ]
  },
  {
   "cell_type": "code",
   "execution_count": 70,
   "id": "9d7b96cb-6c1f-427a-bb90-61a5aac2202b",
   "metadata": {},
   "outputs": [
    {
     "data": {
      "text/plain": [
       "array([4, 5, 6, 7, 8])"
      ]
     },
     "execution_count": 70,
     "metadata": {},
     "output_type": "execute_result"
    }
   ],
   "source": [
    "a = np.array([1,  2,  3,  4,  5,  6,  7,  8,  9, 10])\n",
    "arr1 = a[3:8]\n",
    "arr1"
   ]
  },
  {
   "cell_type": "code",
   "execution_count": 72,
   "id": "0a70f5fa-7e83-47bb-8893-bb6e817433db",
   "metadata": {},
   "outputs": [
    {
     "data": {
      "text/plain": [
       "array([[1, 1],\n",
       "       [2, 2],\n",
       "       [3, 3],\n",
       "       [4, 4]])"
      ]
     },
     "execution_count": 72,
     "metadata": {},
     "output_type": "execute_result"
    }
   ],
   "source": [
    "a1 = np.array([[1, 1], [2, 2]])\n",
    "a2 = np.array([[3, 3], [4, 4]])\n",
    "np.vstack((a1, a2))"
   ]
  },
  {
   "cell_type": "code",
   "execution_count": 73,
   "id": "8ad5702f-00d5-4d40-9cca-a0910fbd9344",
   "metadata": {},
   "outputs": [
    {
     "data": {
      "text/plain": [
       "array([[1, 1, 3, 3],\n",
       "       [2, 2, 4, 4]])"
      ]
     },
     "execution_count": 73,
     "metadata": {},
     "output_type": "execute_result"
    }
   ],
   "source": [
    "np.hstack((a1, a2))"
   ]
  },
  {
   "cell_type": "code",
   "execution_count": 74,
   "id": "26113c2e-abb3-454f-88ec-1b7d18d8ee7d",
   "metadata": {},
   "outputs": [
    {
     "data": {
      "text/plain": [
       "array([[ 1,  2,  3,  4,  5,  6,  7,  8,  9, 10, 11, 12],\n",
       "       [13, 14, 15, 16, 17, 18, 19, 20, 21, 22, 23, 24]])"
      ]
     },
     "execution_count": 74,
     "metadata": {},
     "output_type": "execute_result"
    }
   ],
   "source": [
    "x = np.arange(1, 25).reshape(2, 12)\n",
    "x"
   ]
  },
  {
   "cell_type": "code",
   "execution_count": 75,
   "id": "b9386578-35ec-40f1-954e-c6022eb99a54",
   "metadata": {},
   "outputs": [
    {
     "data": {
      "text/plain": [
       "[array([[ 1,  2,  3,  4],\n",
       "        [13, 14, 15, 16]]),\n",
       " array([[ 5,  6,  7,  8],\n",
       "        [17, 18, 19, 20]]),\n",
       " array([[ 9, 10, 11, 12],\n",
       "        [21, 22, 23, 24]])]"
      ]
     },
     "execution_count": 75,
     "metadata": {},
     "output_type": "execute_result"
    }
   ],
   "source": [
    "np.hsplit(x, 3)"
   ]
  },
  {
   "cell_type": "code",
   "execution_count": 76,
   "id": "a013a550-b88c-4fe8-8702-ca11c3056bf5",
   "metadata": {},
   "outputs": [
    {
     "data": {
      "text/plain": [
       "[array([[ 1,  2,  3],\n",
       "        [13, 14, 15]]),\n",
       " array([[ 4],\n",
       "        [16]]),\n",
       " array([[ 5,  6,  7,  8,  9, 10, 11, 12],\n",
       "        [17, 18, 19, 20, 21, 22, 23, 24]])]"
      ]
     },
     "execution_count": 76,
     "metadata": {},
     "output_type": "execute_result"
    }
   ],
   "source": [
    "np.hsplit(x, (3, 4))"
   ]
  },
  {
   "cell_type": "code",
   "execution_count": 78,
   "id": "2623382c-4a94-4b74-846a-0ab86e2a91fa",
   "metadata": {},
   "outputs": [
    {
     "data": {
      "text/plain": [
       "array([1, 2, 3, 4])"
      ]
     },
     "execution_count": 78,
     "metadata": {},
     "output_type": "execute_result"
    }
   ],
   "source": [
    "a = np.array([[1, 2, 3, 4], [5, 6, 7, 8], [9, 10, 11, 12]])\n",
    "b1 = a[0, :]\n",
    "b1"
   ]
  },
  {
   "cell_type": "code",
   "execution_count": 81,
   "id": "ae7a327b-68cb-4fa5-a809-e7e358231806",
   "metadata": {},
   "outputs": [
    {
     "data": {
      "text/plain": [
       "array([99,  2,  3,  4])"
      ]
     },
     "execution_count": 81,
     "metadata": {},
     "output_type": "execute_result"
    }
   ],
   "source": [
    "b1[0] = 99\n",
    "b1"
   ]
  },
  {
   "cell_type": "code",
   "execution_count": 82,
   "id": "b140f941-7c31-489a-b797-e4abc9082068",
   "metadata": {},
   "outputs": [
    {
     "data": {
      "text/plain": [
       "array([[99,  2,  3,  4],\n",
       "       [ 5,  6,  7,  8],\n",
       "       [ 9, 10, 11, 12]])"
      ]
     },
     "execution_count": 82,
     "metadata": {},
     "output_type": "execute_result"
    }
   ],
   "source": [
    "a"
   ]
  },
  {
   "cell_type": "code",
   "execution_count": 84,
   "id": "bfe64580-3421-421c-a14e-5c5193ff7f2f",
   "metadata": {},
   "outputs": [
    {
     "data": {
      "text/plain": [
       "array([2, 3])"
      ]
     },
     "execution_count": 84,
     "metadata": {},
     "output_type": "execute_result"
    }
   ],
   "source": [
    "b2 = a.copy()\n",
    "data = np.array([1, 2])\n",
    "ones = np.ones(2, dtype=int)\n",
    "data + ones"
   ]
  },
  {
   "cell_type": "code",
   "execution_count": 85,
   "id": "9ee0e77c-ce3f-4b34-895e-b678476c1658",
   "metadata": {},
   "outputs": [
    {
     "data": {
      "text/plain": [
       "array([0, 1])"
      ]
     },
     "execution_count": 85,
     "metadata": {},
     "output_type": "execute_result"
    }
   ],
   "source": [
    "data - ones"
   ]
  },
  {
   "cell_type": "code",
   "execution_count": 86,
   "id": "7104205e-845c-4696-91fb-05ee751f2439",
   "metadata": {},
   "outputs": [
    {
     "data": {
      "text/plain": [
       "array([1, 2])"
      ]
     },
     "execution_count": 86,
     "metadata": {},
     "output_type": "execute_result"
    }
   ],
   "source": [
    "data * ones"
   ]
  },
  {
   "cell_type": "code",
   "execution_count": 87,
   "id": "eff70e67-f294-415b-b114-ba97518bae7d",
   "metadata": {},
   "outputs": [
    {
     "data": {
      "text/plain": [
       "array([1., 2.])"
      ]
     },
     "execution_count": 87,
     "metadata": {},
     "output_type": "execute_result"
    }
   ],
   "source": [
    "data / ones"
   ]
  },
  {
   "cell_type": "code",
   "execution_count": 90,
   "id": "83ed5675-0fbe-4f4a-9173-7471b9ae5ce6",
   "metadata": {},
   "outputs": [
    {
     "data": {
      "text/plain": [
       "np.int64(10)"
      ]
     },
     "execution_count": 90,
     "metadata": {},
     "output_type": "execute_result"
    }
   ],
   "source": [
    "a = np.array([1, 2, 3, 4])\n",
    "a.sum()"
   ]
  },
  {
   "cell_type": "code",
   "execution_count": 92,
   "id": "9318cc9d-bd07-4f8c-8003-eb0e05f91c19",
   "metadata": {},
   "outputs": [
    {
     "data": {
      "text/plain": [
       "array([3, 3])"
      ]
     },
     "execution_count": 92,
     "metadata": {},
     "output_type": "execute_result"
    }
   ],
   "source": [
    "b = np.array([[1, 1], [2, 2]])\n",
    "b.sum(axis=0)\n"
   ]
  },
  {
   "cell_type": "code",
   "execution_count": 93,
   "id": "8f2215f9-2594-4e60-93ae-0a474c0a4e68",
   "metadata": {},
   "outputs": [
    {
     "data": {
      "text/plain": [
       "array([2, 4])"
      ]
     },
     "execution_count": 93,
     "metadata": {},
     "output_type": "execute_result"
    }
   ],
   "source": [
    "b.sum(axis=1)\n"
   ]
  },
  {
   "cell_type": "code",
   "execution_count": 94,
   "id": "c8e4c9f2-9340-414c-9f81-e558362bff67",
   "metadata": {},
   "outputs": [
    {
     "data": {
      "text/plain": [
       "array([1.6, 3.2])"
      ]
     },
     "execution_count": 94,
     "metadata": {},
     "output_type": "execute_result"
    }
   ],
   "source": [
    "data = np.array([1.0, 2.0])\n",
    "data * 1.6\n"
   ]
  },
  {
   "cell_type": "code",
   "execution_count": 96,
   "id": "4a45565f-9f67-411e-af7a-7ae0ce8f96e6",
   "metadata": {},
   "outputs": [
    {
     "data": {
      "text/plain": [
       "np.float64(2.0)"
      ]
     },
     "execution_count": 96,
     "metadata": {},
     "output_type": "execute_result"
    }
   ],
   "source": [
    "data.max()"
   ]
  },
  {
   "cell_type": "code",
   "execution_count": 97,
   "id": "6961b4f1-096c-4f89-b0de-4a55d5d78120",
   "metadata": {},
   "outputs": [
    {
     "data": {
      "text/plain": [
       "np.float64(1.0)"
      ]
     },
     "execution_count": 97,
     "metadata": {},
     "output_type": "execute_result"
    }
   ],
   "source": [
    "data.min()"
   ]
  },
  {
   "cell_type": "code",
   "execution_count": 98,
   "id": "0abc085c-6b13-4024-8182-e0032d9b4a6f",
   "metadata": {},
   "outputs": [
    {
     "data": {
      "text/plain": [
       "np.float64(3.0)"
      ]
     },
     "execution_count": 98,
     "metadata": {},
     "output_type": "execute_result"
    }
   ],
   "source": [
    "data.sum()"
   ]
  },
  {
   "cell_type": "code",
   "execution_count": 100,
   "id": "16f05e59-bbe8-41e0-b41c-d88723205989",
   "metadata": {},
   "outputs": [
    {
     "data": {
      "text/plain": [
       "np.float64(4.8595784)"
      ]
     },
     "execution_count": 100,
     "metadata": {},
     "output_type": "execute_result"
    }
   ],
   "source": [
    "a = np.array([[0.45053314, 0.17296777, 0.34376245, 0.5510652],\n",
    "              [0.54627315, 0.05093587, 0.40067661, 0.55645993],\n",
    "              [0.12697628, 0.82485143, 0.26590556, 0.56917101]])\n",
    "a.sum()"
   ]
  },
  {
   "cell_type": "code",
   "execution_count": 101,
   "id": "fb44bc75-ed28-46f3-8963-b78ee60307b8",
   "metadata": {},
   "outputs": [
    {
     "data": {
      "text/plain": [
       "np.float64(0.05093587)"
      ]
     },
     "execution_count": 101,
     "metadata": {},
     "output_type": "execute_result"
    }
   ],
   "source": [
    "a.min()"
   ]
  },
  {
   "cell_type": "code",
   "execution_count": 102,
   "id": "0fc6f6f7-bff4-41c9-b234-b0f6337ae6f0",
   "metadata": {},
   "outputs": [
    {
     "data": {
      "text/plain": [
       "array([0.12697628, 0.05093587, 0.26590556, 0.5510652 ])"
      ]
     },
     "execution_count": 102,
     "metadata": {},
     "output_type": "execute_result"
    }
   ],
   "source": [
    "a.min(axis=0)"
   ]
  },
  {
   "cell_type": "code",
   "execution_count": 104,
   "id": "8fda8973-bf9c-42eb-8f5c-a41f69997b95",
   "metadata": {},
   "outputs": [
    {
     "data": {
      "text/plain": [
       "array([[1, 2],\n",
       "       [3, 4],\n",
       "       [5, 6]])"
      ]
     },
     "execution_count": 104,
     "metadata": {},
     "output_type": "execute_result"
    }
   ],
   "source": [
    "data = np.array([[1, 2], [3, 4], [5, 6]])\n",
    "data"
   ]
  },
  {
   "cell_type": "code",
   "execution_count": 105,
   "id": "d255c878-ec5f-4b16-adb7-6a9305dd9f9d",
   "metadata": {},
   "outputs": [
    {
     "data": {
      "text/plain": [
       "np.int64(2)"
      ]
     },
     "execution_count": 105,
     "metadata": {},
     "output_type": "execute_result"
    }
   ],
   "source": [
    "data[0, 1]"
   ]
  },
  {
   "cell_type": "code",
   "execution_count": 106,
   "id": "3d731753-d173-4798-8e24-ad2003ecb38f",
   "metadata": {},
   "outputs": [
    {
     "data": {
      "text/plain": [
       "array([[3, 4],\n",
       "       [5, 6]])"
      ]
     },
     "execution_count": 106,
     "metadata": {},
     "output_type": "execute_result"
    }
   ],
   "source": [
    "data[1:3]"
   ]
  },
  {
   "cell_type": "code",
   "execution_count": 108,
   "id": "e5ebddbc-7236-4d7b-936d-d84bf8a549df",
   "metadata": {},
   "outputs": [
    {
     "data": {
      "text/plain": [
       "array([1, 3])"
      ]
     },
     "execution_count": 108,
     "metadata": {},
     "output_type": "execute_result"
    }
   ],
   "source": [
    "data[0:2, 0]"
   ]
  },
  {
   "cell_type": "code",
   "execution_count": 112,
   "id": "e4010cea-b886-4b01-9ef6-5765af20c641",
   "metadata": {},
   "outputs": [
    {
     "data": {
      "text/plain": [
       "np.int64(6)"
      ]
     },
     "execution_count": 112,
     "metadata": {},
     "output_type": "execute_result"
    }
   ],
   "source": [
    "data.max()"
   ]
  },
  {
   "cell_type": "code",
   "execution_count": 113,
   "id": "7c87654c-f0fa-47da-a4d3-b6c847544d8b",
   "metadata": {},
   "outputs": [
    {
     "data": {
      "text/plain": [
       "np.int64(1)"
      ]
     },
     "execution_count": 113,
     "metadata": {},
     "output_type": "execute_result"
    }
   ],
   "source": [
    "data.min()"
   ]
  },
  {
   "cell_type": "code",
   "execution_count": 114,
   "id": "7811f3e5-9b6e-4700-993c-c1fc1701bbf8",
   "metadata": {},
   "outputs": [
    {
     "data": {
      "text/plain": [
       "np.int64(21)"
      ]
     },
     "execution_count": 114,
     "metadata": {},
     "output_type": "execute_result"
    }
   ],
   "source": [
    "data.sum()"
   ]
  },
  {
   "cell_type": "code",
   "execution_count": 115,
   "id": "155eb2da-e426-45b9-a117-dbe19b65a952",
   "metadata": {},
   "outputs": [
    {
     "data": {
      "text/plain": [
       "array([[1, 2],\n",
       "       [5, 3],\n",
       "       [4, 6]])"
      ]
     },
     "execution_count": 115,
     "metadata": {},
     "output_type": "execute_result"
    }
   ],
   "source": [
    "data = np.array([[1, 2], [5, 3], [4, 6]])\n",
    "data"
   ]
  },
  {
   "cell_type": "code",
   "execution_count": 116,
   "id": "4ca71d64-5d36-4e82-9aa9-69d3a146e9d7",
   "metadata": {},
   "outputs": [
    {
     "data": {
      "text/plain": [
       "array([5, 6])"
      ]
     },
     "execution_count": 116,
     "metadata": {},
     "output_type": "execute_result"
    }
   ],
   "source": [
    "data.max(axis=0)"
   ]
  },
  {
   "cell_type": "code",
   "execution_count": 117,
   "id": "12d04de8-c080-4982-98b9-be1d44db6af3",
   "metadata": {},
   "outputs": [
    {
     "data": {
      "text/plain": [
       "array([2, 5, 6])"
      ]
     },
     "execution_count": 117,
     "metadata": {},
     "output_type": "execute_result"
    }
   ],
   "source": [
    "data.max(axis=1)"
   ]
  },
  {
   "cell_type": "code",
   "execution_count": 118,
   "id": "49ef5b3b-60c9-4c99-914d-0b1f284ab26e",
   "metadata": {},
   "outputs": [
    {
     "data": {
      "text/plain": [
       "array([[2, 3],\n",
       "       [4, 5]])"
      ]
     },
     "execution_count": 118,
     "metadata": {},
     "output_type": "execute_result"
    }
   ],
   "source": [
    "data = np.array([[1, 2], [3, 4]])\n",
    "ones = np.array([[1, 1], [1, 1]])\n",
    "data + ones"
   ]
  },
  {
   "cell_type": "code",
   "execution_count": 119,
   "id": "0731730d-d84e-4465-a0d4-901de2b85baf",
   "metadata": {},
   "outputs": [
    {
     "data": {
      "text/plain": [
       "array([[2, 3],\n",
       "       [4, 5],\n",
       "       [6, 7]])"
      ]
     },
     "execution_count": 119,
     "metadata": {},
     "output_type": "execute_result"
    }
   ],
   "source": [
    "data = np.array([[1, 2], [3, 4], [5, 6]])\n",
    "ones_row = np.array([[1, 1]])\n",
    "data + ones_row"
   ]
  },
  {
   "cell_type": "code",
   "execution_count": 120,
   "id": "1f9bc2f2-6304-4080-bc28-e8475009647d",
   "metadata": {},
   "outputs": [
    {
     "data": {
      "text/plain": [
       "array([[[1., 1.],\n",
       "        [1., 1.],\n",
       "        [1., 1.]],\n",
       "\n",
       "       [[1., 1.],\n",
       "        [1., 1.],\n",
       "        [1., 1.]],\n",
       "\n",
       "       [[1., 1.],\n",
       "        [1., 1.],\n",
       "        [1., 1.]],\n",
       "\n",
       "       [[1., 1.],\n",
       "        [1., 1.],\n",
       "        [1., 1.]]])"
      ]
     },
     "execution_count": 120,
     "metadata": {},
     "output_type": "execute_result"
    }
   ],
   "source": [
    "np.ones((4, 3, 2))"
   ]
  },
  {
   "cell_type": "code",
   "execution_count": 121,
   "id": "f3f9f489-33f3-4bb7-8483-c280c5728f1e",
   "metadata": {},
   "outputs": [
    {
     "data": {
      "text/plain": [
       "array([1., 1., 1.])"
      ]
     },
     "execution_count": 121,
     "metadata": {},
     "output_type": "execute_result"
    }
   ],
   "source": [
    "np.ones(3)\n"
   ]
  },
  {
   "cell_type": "code",
   "execution_count": 122,
   "id": "4a3391cb-e46a-4ce7-b62c-fbc7f6b708f6",
   "metadata": {},
   "outputs": [
    {
     "data": {
      "text/plain": [
       "array([0., 0., 0.])"
      ]
     },
     "execution_count": 122,
     "metadata": {},
     "output_type": "execute_result"
    }
   ],
   "source": [
    "np.zeros(3)\n"
   ]
  },
  {
   "cell_type": "code",
   "execution_count": 123,
   "id": "75d6fe32-aaca-4a51-bdc1-626e8f497e7d",
   "metadata": {},
   "outputs": [
    {
     "data": {
      "text/plain": [
       "array([0.32273738, 0.54547865, 0.13041072])"
      ]
     },
     "execution_count": 123,
     "metadata": {},
     "output_type": "execute_result"
    }
   ],
   "source": [
    "rng = np.random.default_rng()\n",
    "rng.random(3) "
   ]
  },
  {
   "cell_type": "code",
   "execution_count": 124,
   "id": "cf85ca8e-5136-47a0-8857-4479f16435f9",
   "metadata": {},
   "outputs": [
    {
     "data": {
      "text/plain": [
       "array([[1., 1.],\n",
       "       [1., 1.],\n",
       "       [1., 1.]])"
      ]
     },
     "execution_count": 124,
     "metadata": {},
     "output_type": "execute_result"
    }
   ],
   "source": [
    "np.ones((3, 2))\n"
   ]
  },
  {
   "cell_type": "code",
   "execution_count": 125,
   "id": "3af77b7d-7017-47ab-b81c-b62237ac4ea4",
   "metadata": {},
   "outputs": [
    {
     "data": {
      "text/plain": [
       "array([[0., 0.],\n",
       "       [0., 0.],\n",
       "       [0., 0.]])"
      ]
     },
     "execution_count": 125,
     "metadata": {},
     "output_type": "execute_result"
    }
   ],
   "source": [
    "np.zeros((3, 2))"
   ]
  },
  {
   "cell_type": "code",
   "execution_count": 127,
   "id": "60c254e0-2e17-4a93-97d2-0edf349cfd7a",
   "metadata": {},
   "outputs": [
    {
     "data": {
      "text/plain": [
       "array([[0.14065921, 0.96046177],\n",
       "       [0.7497505 , 0.53104588],\n",
       "       [0.9722314 , 0.33249072]])"
      ]
     },
     "execution_count": 127,
     "metadata": {},
     "output_type": "execute_result"
    }
   ],
   "source": [
    "rng.random((3, 2)) "
   ]
  },
  {
   "cell_type": "code",
   "execution_count": 128,
   "id": "e4a05d60-9478-4bfd-b8be-a521ef9ada42",
   "metadata": {},
   "outputs": [
    {
     "data": {
      "text/plain": [
       "array([[1, 3, 4, 3],\n",
       "       [4, 0, 4, 2]])"
      ]
     },
     "execution_count": 128,
     "metadata": {},
     "output_type": "execute_result"
    }
   ],
   "source": [
    "rng.integers(5, size=(2, 4)) \n"
   ]
  },
  {
   "cell_type": "code",
   "execution_count": 130,
   "id": "dfe572d4-9ab3-4049-b180-f08a4ab0dbee",
   "metadata": {},
   "outputs": [
    {
     "name": "stdout",
     "output_type": "stream",
     "text": [
      "[11 12 13 14 15 16 17 18 19 20]\n"
     ]
    }
   ],
   "source": [
    "a = np.array([11, 11, 12, 13, 14, 15, 16, 17, 12, 13, 11, 14, 18, 19, 20])\n",
    "unique_values = np.unique(a)\n",
    "print(unique_values)"
   ]
  },
  {
   "cell_type": "code",
   "execution_count": 131,
   "id": "5eeb9aba-5407-4c66-bbfa-e05e391ba7e9",
   "metadata": {},
   "outputs": [
    {
     "name": "stdout",
     "output_type": "stream",
     "text": [
      "[ 0  2  3  4  5  6  7 12 13 14]\n"
     ]
    }
   ],
   "source": [
    "unique_values, indices_list = np.unique(a, return_index=True)\n",
    "print(indices_list)"
   ]
  },
  {
   "cell_type": "code",
   "execution_count": 132,
   "id": "37c1b94a-0209-4f00-92fc-e57f9d17c030",
   "metadata": {},
   "outputs": [
    {
     "name": "stdout",
     "output_type": "stream",
     "text": [
      "[3 2 2 2 1 1 1 1 1 1]\n"
     ]
    }
   ],
   "source": [
    "unique_values, occurrence_count = np.unique(a, return_counts=True)\n",
    "print(occurrence_count)"
   ]
  },
  {
   "cell_type": "code",
   "execution_count": 134,
   "id": "0364db20-32e3-413c-8d12-afb8c47602ba",
   "metadata": {},
   "outputs": [
    {
     "name": "stdout",
     "output_type": "stream",
     "text": [
      "[ 1  2  3  4  5  6  7  8  9 10 11 12]\n"
     ]
    }
   ],
   "source": [
    "a_2d = np.array([[1, 2, 3, 4], [5, 6, 7, 8], [9, 10, 11, 12], [1, 2, 3, 4]])\n",
    "unique_values = np.unique(a_2d)\n",
    "print(unique_values)"
   ]
  },
  {
   "cell_type": "code",
   "execution_count": 135,
   "id": "0a70a27d-2736-480f-8af5-d3291d50a194",
   "metadata": {},
   "outputs": [
    {
     "name": "stdout",
     "output_type": "stream",
     "text": [
      "[[ 1  2  3  4]\n",
      " [ 5  6  7  8]\n",
      " [ 9 10 11 12]]\n"
     ]
    }
   ],
   "source": [
    "unique_rows = np.unique(a_2d, axis=0)\n",
    "print(unique_rows)"
   ]
  },
  {
   "cell_type": "code",
   "execution_count": 136,
   "id": "58e1409b-8aa4-46a1-84ae-8b69b21264be",
   "metadata": {},
   "outputs": [
    {
     "name": "stdout",
     "output_type": "stream",
     "text": [
      "[[ 1  2  3  4]\n",
      " [ 5  6  7  8]\n",
      " [ 9 10 11 12]]\n"
     ]
    }
   ],
   "source": [
    "unique_rows, indices, occurrence_count = np.unique(\n",
    "     a_2d, axis=0, return_counts=True, return_index=True)\n",
    "print(unique_rows)"
   ]
  },
  {
   "cell_type": "code",
   "execution_count": 137,
   "id": "666bac6b-a0af-4239-9df6-e0c7e6941866",
   "metadata": {},
   "outputs": [
    {
     "name": "stdout",
     "output_type": "stream",
     "text": [
      "[0 1 2]\n"
     ]
    }
   ],
   "source": [
    "print(indices)"
   ]
  },
  {
   "cell_type": "code",
   "execution_count": 138,
   "id": "79e2e4ac-9a93-429c-a58c-460238eecf76",
   "metadata": {},
   "outputs": [
    {
     "name": "stdout",
     "output_type": "stream",
     "text": [
      "[2 1 1]\n"
     ]
    }
   ],
   "source": [
    "print(occurrence_count)"
   ]
  },
  {
   "cell_type": "code",
   "execution_count": 140,
   "id": "bf09ae6f-16c4-4cd6-9c89-81488c1cf501",
   "metadata": {},
   "outputs": [
    {
     "data": {
      "text/plain": [
       "array([[1, 2, 3],\n",
       "       [4, 5, 6]])"
      ]
     },
     "execution_count": 140,
     "metadata": {},
     "output_type": "execute_result"
    }
   ],
   "source": [
    "data.reshape(2, 3)\n",
    "\n"
   ]
  },
  {
   "cell_type": "code",
   "execution_count": 141,
   "id": "a9803ae9-a0ad-4248-a956-44720a316fb0",
   "metadata": {},
   "outputs": [
    {
     "data": {
      "text/plain": [
       "array([[1, 2],\n",
       "       [3, 4],\n",
       "       [5, 6]])"
      ]
     },
     "execution_count": 141,
     "metadata": {},
     "output_type": "execute_result"
    }
   ],
   "source": [
    "data.reshape(3, 2)"
   ]
  },
  {
   "cell_type": "code",
   "execution_count": 142,
   "id": "cc5cb00b-1a5c-4b9f-a4e0-530389fd71b3",
   "metadata": {},
   "outputs": [
    {
     "data": {
      "text/plain": [
       "array([[0, 1, 2],\n",
       "       [3, 4, 5]])"
      ]
     },
     "execution_count": 142,
     "metadata": {},
     "output_type": "execute_result"
    }
   ],
   "source": [
    "arr = np.arange(6).reshape((2, 3))\n",
    "arr"
   ]
  },
  {
   "cell_type": "code",
   "execution_count": 143,
   "id": "9a58c58e-c25b-4c3a-8e00-8b526612b08d",
   "metadata": {},
   "outputs": [
    {
     "data": {
      "text/plain": [
       "array([[0, 3],\n",
       "       [1, 4],\n",
       "       [2, 5]])"
      ]
     },
     "execution_count": 143,
     "metadata": {},
     "output_type": "execute_result"
    }
   ],
   "source": [
    "arr.transpose()"
   ]
  },
  {
   "cell_type": "code",
   "execution_count": 144,
   "id": "6a21ad48-80c1-4918-9cd9-120b0b896aae",
   "metadata": {},
   "outputs": [
    {
     "data": {
      "text/plain": [
       "array([[0, 3],\n",
       "       [1, 4],\n",
       "       [2, 5]])"
      ]
     },
     "execution_count": 144,
     "metadata": {},
     "output_type": "execute_result"
    }
   ],
   "source": [
    "arr.T"
   ]
  },
  {
   "cell_type": "code",
   "execution_count": 147,
   "id": "ef5fe209-4aed-46a7-bb05-6eb30dc063eb",
   "metadata": {},
   "outputs": [
    {
     "name": "stdout",
     "output_type": "stream",
     "text": [
      "Reversed Array:  [8 7 6 5 4 3 2 1]\n"
     ]
    }
   ],
   "source": [
    "arr = np.array([1, 2, 3, 4, 5, 6, 7, 8])\n",
    "reversed_arr = np.flip(arr)\n",
    "print('Reversed Array: ', reversed_arr)"
   ]
  },
  {
   "cell_type": "code",
   "execution_count": 148,
   "id": "c02d0c90-ca9e-499d-92d2-9a1dbeafc4a0",
   "metadata": {},
   "outputs": [
    {
     "name": "stdout",
     "output_type": "stream",
     "text": [
      "[[12 11 10  9]\n",
      " [ 8  7  6  5]\n",
      " [ 4  3  2  1]]\n"
     ]
    }
   ],
   "source": [
    "arr_2d = np.array([[1, 2, 3, 4], [5, 6, 7, 8], [9, 10, 11, 12]])\n",
    "reversed_arr = np.flip(arr_2d)\n",
    "print(reversed_arr)"
   ]
  },
  {
   "cell_type": "code",
   "execution_count": 150,
   "id": "ecab7293-3264-497d-ba67-d0e90fef4131",
   "metadata": {},
   "outputs": [
    {
     "name": "stdout",
     "output_type": "stream",
     "text": [
      "[[ 9 10 11 12]\n",
      " [ 5  6  7  8]\n",
      " [ 1  2  3  4]]\n"
     ]
    }
   ],
   "source": [
    "reversed_arr_rows = np.flip(arr_2d, axis=0)\n",
    "print(reversed_arr_rows)"
   ]
  },
  {
   "cell_type": "code",
   "execution_count": 151,
   "id": "de2092fc-92c7-4c9e-a004-b44918f8e932",
   "metadata": {},
   "outputs": [
    {
     "name": "stdout",
     "output_type": "stream",
     "text": [
      "[[ 4  3  2  1]\n",
      " [ 8  7  6  5]\n",
      " [12 11 10  9]]\n"
     ]
    }
   ],
   "source": [
    "reversed_arr_columns = np.flip(arr_2d, axis=1)\n",
    "print(reversed_arr_columns)"
   ]
  },
  {
   "cell_type": "code",
   "execution_count": 152,
   "id": "73ceef78-f682-4b73-8385-1611799a707d",
   "metadata": {},
   "outputs": [
    {
     "name": "stdout",
     "output_type": "stream",
     "text": [
      "[[ 1  2  3  4]\n",
      " [ 8  7  6  5]\n",
      " [ 9 10 11 12]]\n"
     ]
    }
   ],
   "source": [
    "arr_2d[1] = np.flip(arr_2d[1])\n",
    "print(arr_2d)"
   ]
  },
  {
   "cell_type": "code",
   "execution_count": 153,
   "id": "9afab4ad-328e-4a83-8a79-683b32997130",
   "metadata": {},
   "outputs": [
    {
     "name": "stdout",
     "output_type": "stream",
     "text": [
      "[[ 1 10  3  4]\n",
      " [ 8  7  6  5]\n",
      " [ 9  2 11 12]]\n"
     ]
    }
   ],
   "source": [
    "arr_2d[:,1] = np.flip(arr_2d[:,1])\n",
    "print(arr_2d)"
   ]
  },
  {
   "cell_type": "code",
   "execution_count": 155,
   "id": "68a62472-e6c5-43c4-bba3-7dbe11a1c275",
   "metadata": {},
   "outputs": [
    {
     "data": {
      "text/plain": [
       "array([ 1,  2,  3,  4,  5,  6,  7,  8,  9, 10, 11, 12])"
      ]
     },
     "execution_count": 155,
     "metadata": {},
     "output_type": "execute_result"
    }
   ],
   "source": [
    "x = np.array([[1 , 2, 3, 4], [5, 6, 7, 8], [9, 10, 11, 12]])\n",
    "x.flatten()\n"
   ]
  },
  {
   "cell_type": "code",
   "execution_count": 156,
   "id": "9d72c838-60b8-426d-95e0-4a35e4b2adea",
   "metadata": {},
   "outputs": [
    {
     "name": "stdout",
     "output_type": "stream",
     "text": [
      "[[ 1  2  3  4]\n",
      " [ 5  6  7  8]\n",
      " [ 9 10 11 12]]\n"
     ]
    }
   ],
   "source": [
    "a1 = x.flatten()\n",
    "a1[0] = 99\n",
    "print(x)"
   ]
  },
  {
   "cell_type": "code",
   "execution_count": 157,
   "id": "931066b9-9f5b-41f6-a782-4b63539d3a4f",
   "metadata": {},
   "outputs": [
    {
     "name": "stdout",
     "output_type": "stream",
     "text": [
      "[99  2  3  4  5  6  7  8  9 10 11 12]\n"
     ]
    }
   ],
   "source": [
    "print(a1)"
   ]
  },
  {
   "cell_type": "code",
   "execution_count": 158,
   "id": "c620da64-f0b2-4ca8-8e0a-6ee86ef12ca1",
   "metadata": {},
   "outputs": [
    {
     "name": "stdout",
     "output_type": "stream",
     "text": [
      "[[98  2  3  4]\n",
      " [ 5  6  7  8]\n",
      " [ 9 10 11 12]]\n"
     ]
    }
   ],
   "source": [
    "a2 = x.ravel()\n",
    "a2[0] = 98\n",
    "print(x)"
   ]
  },
  {
   "cell_type": "code",
   "execution_count": 159,
   "id": "6ef514e9-fa84-413e-94c6-c95794cffd94",
   "metadata": {},
   "outputs": [
    {
     "name": "stdout",
     "output_type": "stream",
     "text": [
      "[98  2  3  4  5  6  7  8  9 10 11 12]\n"
     ]
    }
   ],
   "source": [
    "print(a2)"
   ]
  }
 ],
 "metadata": {
  "kernelspec": {
   "display_name": "Python 3 (ipykernel)",
   "language": "python",
   "name": "python3"
  },
  "language_info": {
   "codemirror_mode": {
    "name": "ipython",
    "version": 3
   },
   "file_extension": ".py",
   "mimetype": "text/x-python",
   "name": "python",
   "nbconvert_exporter": "python",
   "pygments_lexer": "ipython3",
   "version": "3.13.3"
  }
 },
 "nbformat": 4,
 "nbformat_minor": 5
}
