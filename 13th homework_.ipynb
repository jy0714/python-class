{
 "cells": [
  {
   "cell_type": "code",
   "execution_count": 1,
   "id": "9b1b2afb-c006-4f9d-9356-1858cd180f4e",
   "metadata": {
    "colab": {
     "base_uri": "https://localhost:8080/",
     "height": 375
    },
    "executionInfo": {
     "elapsed": 10,
     "status": "error",
     "timestamp": 1749195546260,
     "user": {
      "displayName": "­조재윤 | 기술경영학과 | 한양대(서울)",
      "userId": "02102681361620024159"
     },
     "user_tz": -540
    },
    "id": "9b1b2afb-c006-4f9d-9356-1858cd180f4e",
    "outputId": "6b977602-050a-423e-e3a1-034d73fcd2db"
   },
   "outputs": [
    {
     "name": "stdout",
     "output_type": "stream",
     "text": [
      "menu\n"
     ]
    }
   ],
   "source": [
    "#'C:\\\\Users\\\\JY\\\\cb_filter_0604_simple.csv\n",
    "\n",
    "import xml.etree.ElementTree as et\n",
    "tree = et.ElementTree(file='menu.xml')\n",
    "root = tree.getroot()\n",
    "\n",
    "print(root.tag)"
   ]
  },
  {
   "cell_type": "code",
   "execution_count": 2,
   "id": "40d17b81-6a8a-435c-a430-67ed2cfcf9f3",
   "metadata": {
    "colab": {
     "base_uri": "https://localhost:8080/",
     "height": 203
    },
    "executionInfo": {
     "elapsed": 26,
     "status": "error",
     "timestamp": 1749195541417,
     "user": {
      "displayName": "­조재윤 | 기술경영학과 | 한양대(서울)",
      "userId": "02102681361620024159"
     },
     "user_tz": -540
    },
    "id": "40d17b81-6a8a-435c-a430-67ed2cfcf9f3",
    "outputId": "76b7e626-a947-4321-bedc-315e607d2de5"
   },
   "outputs": [
    {
     "name": "stdout",
     "output_type": "stream",
     "text": [
      "tag breakfast attributes: {'hours': '7-11'}\n",
      "\ttag: item attributes: {'price': '$6.00'}\n",
      "\ttag: item attributes: {'price': '$4.00'}\n",
      "tag lunch attributes: {'hours': '11-3'}\n",
      "\ttag: item attributes: {'price': '$5.00'}\n",
      "tag dinner attributes: {'hours': '3-10'}\n",
      "\ttag: item attributes: {'price': '8.00'}\n"
     ]
    }
   ],
   "source": [
    "for child in root:\n",
    "    print('tag', child.tag, 'attributes:', child.attrib)\n",
    "    for grandchild in child:\n",
    "        print('\\ttag:', grandchild.tag, 'attributes:', grandchild.attrib)"
   ]
  },
  {
   "cell_type": "code",
   "execution_count": 3,
   "id": "8641b3f1-14d8-421d-bfb5-239368ce5cf2",
   "metadata": {
    "colab": {
     "base_uri": "https://localhost:8080/",
     "height": 166
    },
    "executionInfo": {
     "elapsed": 19,
     "status": "error",
     "timestamp": 1749195538740,
     "user": {
      "displayName": "­조재윤 | 기술경영학과 | 한양대(서울)",
      "userId": "02102681361620024159"
     },
     "user_tz": -540
    },
    "id": "8641b3f1-14d8-421d-bfb5-239368ce5cf2",
    "outputId": "60b045dc-a611-4e66-efc7-d52559771f79"
   },
   "outputs": [
    {
     "data": {
      "text/plain": [
       "2"
      ]
     },
     "execution_count": 3,
     "metadata": {},
     "output_type": "execute_result"
    }
   ],
   "source": [
    "len(root)\n",
    "len(root[0])"
   ]
  },
  {
   "cell_type": "code",
   "execution_count": 4,
   "id": "f5db8c36-57b1-4ec7-a756-ed6a42982b4c",
   "metadata": {
    "colab": {
     "base_uri": "https://localhost:8080/",
     "height": 203
    },
    "executionInfo": {
     "elapsed": 38,
     "status": "error",
     "timestamp": 1749195533941,
     "user": {
      "displayName": "­조재윤 | 기술경영학과 | 한양대(서울)",
      "userId": "02102681361620024159"
     },
     "user_tz": -540
    },
    "id": "f5db8c36-57b1-4ec7-a756-ed6a42982b4c",
    "outputId": "0ca75caa-bcbe-4534-d74c-b135332b5904"
   },
   "outputs": [
    {
     "name": "stdout",
     "output_type": "stream",
     "text": [
      "<Element 'breakfast' at 0x0000023E972FEED0>\n",
      "7-11\n",
      "['hours']\n",
      "[('hours', '7-11')]\n"
     ]
    }
   ],
   "source": [
    "print(root[0])\n",
    "print(root[0].get(\"hours\"))\n",
    "print(root[0].keys())\n",
    "print(root[0].items())"
   ]
  },
  {
   "cell_type": "code",
   "execution_count": null,
   "id": "60aa1ee6-1821-4ac9-bf83-cdd54adb2c10",
   "metadata": {
    "id": "60aa1ee6-1821-4ac9-bf83-cdd54adb2c10",
    "outputId": "baa5212c-7e9d-436c-c3f3-80a4c4556b45"
   },
   "outputs": [
    {
     "name": "stdout",
     "output_type": "stream",
     "text": [
      "<Element 'lunch' at 0x0000024156BAEFC0>\n",
      "11-3\n",
      "['hours']\n",
      "[('hours', '11-3')]\n",
      "[<Element 'item' at 0x0000024156BAEF20>, <Element 'item' at 0x0000024156BAEF70>]\n"
     ]
    }
   ],
   "source": [
    "lunch = root.find(\"lunch\")\n",
    "print(lunch)\n",
    "print(lunch.get(\"hours\"))\n",
    "print(lunch.keys())\n",
    "print(lunch.items())\n",
    "\n",
    "print(root[0].findall('item'))"
   ]
  },
  {
   "cell_type": "code",
   "execution_count": null,
   "id": "8e324dff-9bea-40f9-bea7-be996a75f37b",
   "metadata": {
    "id": "8e324dff-9bea-40f9-bea7-be996a75f37b",
    "outputId": "2dc8d649-5214-48e4-dee5-885c346e3acf"
   },
   "outputs": [
    {
     "name": "stdout",
     "output_type": "stream",
     "text": [
      "[<Element 'item' at 0x0000024156BAEF20>, <Element 'item' at 0x0000024156BAEF70>]\n",
      "$6.00\n",
      "breakfast burritos\n",
      "$4.00\n",
      "pancakes\n"
     ]
    }
   ],
   "source": [
    "print(root[0].findall('item'))\n",
    "\n",
    "for item in root[0].findall('item'):\n",
    "    print(item.get('price'))\n",
    "    print(item.text)"
   ]
  },
  {
   "cell_type": "code",
   "execution_count": 7,
   "id": "1440beb5-7c1e-4a66-9322-67b4c3cc0cbd",
   "metadata": {
    "colab": {
     "base_uri": "https://localhost:8080/",
     "height": 35
    },
    "executionInfo": {
     "elapsed": 16,
     "status": "ok",
     "timestamp": 1749196338293,
     "user": {
      "displayName": "­조재윤 | 기술경영학과 | 한양대(서울)",
      "userId": "02102681361620024159"
     },
     "user_tz": -540
    },
    "id": "1440beb5-7c1e-4a66-9322-67b4c3cc0cbd",
    "outputId": "174a4d3d-845c-4360-e654-d937aa5cd9d2"
   },
   "outputs": [
    {
     "data": {
      "application/vnd.google.colaboratory.intrinsic+json": {
       "type": "string"
      },
      "text/plain": [
       "'{\"name\": \"\\\\ud64d\\\\uae38\\\\ub3d9\", \"birth\": \"0525\", \"age\": 30}'"
      ]
     },
     "execution_count": 7,
     "metadata": {},
     "output_type": "execute_result"
    }
   ],
   "source": [
    "import json\n",
    "\n",
    "j1 = {\"name\":\"홍길동\", \"birth\":\"0525\", \"age\": 30}\n",
    "j1\n",
    "json.dumps(j1)"
   ]
  },
  {
   "cell_type": "code",
   "execution_count": 8,
   "id": "e1342897-0914-40c3-93d3-b71656a8b1c6",
   "metadata": {
    "colab": {
     "base_uri": "https://localhost:8080/",
     "height": 35
    },
    "executionInfo": {
     "elapsed": 46,
     "status": "ok",
     "timestamp": 1749196339814,
     "user": {
      "displayName": "­조재윤 | 기술경영학과 | 한양대(서울)",
      "userId": "02102681361620024159"
     },
     "user_tz": -540
    },
    "id": "e1342897-0914-40c3-93d3-b71656a8b1c6",
    "outputId": "c8c64411-06f2-4319-c11c-f4c19540e593"
   },
   "outputs": [
    {
     "data": {
      "application/vnd.google.colaboratory.intrinsic+json": {
       "type": "string"
      },
      "text/plain": [
       "'{\\n  \"name\": \"\\\\ud64d\\\\uae38\\\\ub3d9\",\\n  \"birth\": \"0525\",\\n  \"age\": 30\\n}'"
      ]
     },
     "execution_count": 8,
     "metadata": {},
     "output_type": "execute_result"
    }
   ],
   "source": [
    "print\n",
    "(json.dumps(j1, indent=2))"
   ]
  },
  {
   "cell_type": "code",
   "execution_count": 9,
   "id": "753272d3-e13a-4247-933c-d188ec876406",
   "metadata": {
    "colab": {
     "base_uri": "https://localhost:8080/",
     "height": 35
    },
    "executionInfo": {
     "elapsed": 7,
     "status": "ok",
     "timestamp": 1749196341013,
     "user": {
      "displayName": "­조재윤 | 기술경영학과 | 한양대(서울)",
      "userId": "02102681361620024159"
     },
     "user_tz": -540
    },
    "id": "753272d3-e13a-4247-933c-d188ec876406",
    "outputId": "911d291c-faeb-4a6e-e321-d2a5ef1b36a5"
   },
   "outputs": [
    {
     "data": {
      "application/vnd.google.colaboratory.intrinsic+json": {
       "type": "string"
      },
      "text/plain": [
       "'[1, 2, 3]'"
      ]
     },
     "execution_count": 9,
     "metadata": {},
     "output_type": "execute_result"
    }
   ],
   "source": [
    "json.dumps([1,2,3])"
   ]
  },
  {
   "cell_type": "code",
   "execution_count": 10,
   "id": "121b3b8c-a56e-4a57-9f34-a75fc4e1d1d2",
   "metadata": {
    "colab": {
     "base_uri": "https://localhost:8080/",
     "height": 35
    },
    "executionInfo": {
     "elapsed": 16,
     "status": "ok",
     "timestamp": 1749196342180,
     "user": {
      "displayName": "­조재윤 | 기술경영학과 | 한양대(서울)",
      "userId": "02102681361620024159"
     },
     "user_tz": -540
    },
    "id": "121b3b8c-a56e-4a57-9f34-a75fc4e1d1d2",
    "outputId": "700e43cc-1abf-4d6b-c7a4-6a27d221599a"
   },
   "outputs": [
    {
     "data": {
      "application/vnd.google.colaboratory.intrinsic+json": {
       "type": "string"
      },
      "text/plain": [
       "'[4, 5, 6]'"
      ]
     },
     "execution_count": 10,
     "metadata": {},
     "output_type": "execute_result"
    }
   ],
   "source": [
    "json.dumps((4,5,6))"
   ]
  },
  {
   "cell_type": "code",
   "execution_count": 11,
   "id": "ef647b61-5b8a-4bb4-8ebb-6231c6362e30",
   "metadata": {
    "colab": {
     "base_uri": "https://localhost:8080/",
     "height": 35
    },
    "executionInfo": {
     "elapsed": 10,
     "status": "ok",
     "timestamp": 1749196343299,
     "user": {
      "displayName": "­조재윤 | 기술경영학과 | 한양대(서울)",
      "userId": "02102681361620024159"
     },
     "user_tz": -540
    },
    "id": "ef647b61-5b8a-4bb4-8ebb-6231c6362e30",
    "outputId": "b88dfc64-39fe-44e7-c7bd-5097f1dfc520"
   },
   "outputs": [
    {
     "data": {
      "application/vnd.google.colaboratory.intrinsic+json": {
       "type": "string"
      },
      "text/plain": [
       "'\"{\\\\\"name\\\\\": \\\\\"\\\\\\\\ud64d\\\\\\\\uae38\\\\\\\\ub3d9\\\\\", \\\\\"birth\\\\\": \\\\\"0525\\\\\", \\\\\"age\\\\\": 30}\"'"
      ]
     },
     "execution_count": 11,
     "metadata": {},
     "output_type": "execute_result"
    }
   ],
   "source": [
    "j1 = {\"name\":\"홍길동\", \"birth\":\"0525\", \"age\": 30}\n",
    "d1 = json.dumps(j1)\n",
    "json.dumps(d1)"
   ]
  },
  {
   "cell_type": "code",
   "execution_count": 18,
   "id": "b666d3fe-5b1c-41d9-8737-58d40a76a2bb",
   "metadata": {
    "colab": {
     "base_uri": "https://localhost:8080/"
    },
    "executionInfo": {
     "elapsed": 1408,
     "status": "ok",
     "timestamp": 1749196728825,
     "user": {
      "displayName": "­조재윤 | 기술경영학과 | 한양대(서울)",
      "userId": "02102681361620024159"
     },
     "user_tz": -540
    },
    "id": "b666d3fe-5b1c-41d9-8737-58d40a76a2bb",
    "outputId": "e512de1d-77ab-4b0f-b943-9c0f5759b72d"
   },
   "outputs": [
    {
     "name": "stdout",
     "output_type": "stream",
     "text": [
      "Drive already mounted at /content/drive; to attempt to forcibly remount, call drive.mount(\"/content/drive\", force_remount=True).\n"
     ]
    }
   ],
   "source": [
    "from google.colab import drive\n",
    "drive.mount('/content/drive')\n",
    "\n"
   ]
  },
  {
   "cell_type": "code",
   "execution_count": 19,
   "id": "2eb80661-1152-4514-bb7c-e74f4733c021",
   "metadata": {
    "colab": {
     "base_uri": "https://localhost:8080/"
    },
    "executionInfo": {
     "elapsed": 57,
     "status": "ok",
     "timestamp": 1749196765123,
     "user": {
      "displayName": "­조재윤 | 기술경영학과 | 한양대(서울)",
      "userId": "02102681361620024159"
     },
     "user_tz": -540
    },
    "id": "2eb80661-1152-4514-bb7c-e74f4733c021",
    "outputId": "422f0049-71a4-47a9-f837-f0ccac9c8b05"
   },
   "outputs": [
    {
     "name": "stdout",
     "output_type": "stream",
     "text": [
      "<class 'dict'>\n"
     ]
    }
   ],
   "source": [
    "with open('/content/drive/MyDrive/Colab Notebooks/myinfo.json') as f:\n",
    "    data = json.load(f)\n",
    "\n",
    "print(type(data))"
   ]
  },
  {
   "cell_type": "code",
   "execution_count": 20,
   "id": "dcffb178-4a0b-4128-a6c3-e27b4b1d514a",
   "metadata": {
    "colab": {
     "base_uri": "https://localhost:8080/"
    },
    "executionInfo": {
     "elapsed": 13,
     "status": "ok",
     "timestamp": 1749196784471,
     "user": {
      "displayName": "­조재윤 | 기술경영학과 | 한양대(서울)",
      "userId": "02102681361620024159"
     },
     "user_tz": -540
    },
    "id": "dcffb178-4a0b-4128-a6c3-e27b4b1d514a",
    "outputId": "335badb4-f3b0-42e7-ba85-bd8b7d41c277"
   },
   "outputs": [
    {
     "name": "stdout",
     "output_type": "stream",
     "text": [
      "{'name': '홍길동', 'birth': '0525', 'age': 30}\n"
     ]
    }
   ],
   "source": [
    "print(data)"
   ]
  },
  {
   "cell_type": "code",
   "execution_count": 5,
   "id": "TBQWayyJQPX7",
   "metadata": {
    "colab": {
     "base_uri": "https://localhost:8080/",
     "height": 430
    },
    "executionInfo": {
     "elapsed": 132282,
     "status": "error",
     "timestamp": 1749197162185,
     "user": {
      "displayName": "­조재윤 | 기술경영학과 | 한양대(서울)",
      "userId": "02102681361620024159"
     },
     "user_tz": -540
    },
    "id": "TBQWayyJQPX7",
    "outputId": "55af3caf-8fad-4a41-b359-23708bc7c9f6"
   },
   "outputs": [
    {
     "name": "stdout",
     "output_type": "stream",
     "text": [
      "b'<html>\\n<head>\\n<title>A Useful Page</title>\\n</head>\\n<body>\\n<h1>An Interesting Title</h1>\\n<div>\\nLorem ipsum dolor sit amet, consectetur adipisicing elit, sed do eiusmod tempor incididunt ut labore et dolore magna aliqua. Ut enim ad minim veniam, quis nostrud exercitation ullamco laboris nisi ut aliquip ex ea commodo consequat. Duis aute irure dolor in reprehenderit in voluptate velit esse cillum dolore eu fugiat nulla pariatur. Excepteur sint occaecat cupidatat non proident, sunt in culpa qui officia deserunt mollit anim id est laborum.\\n</div>\\n</body>\\n</html>\\n'\n"
     ]
    }
   ],
   "source": [
    "from urllib.request import urlopen\n",
    "html = urlopen(\"http://pythonscraping.com/pages/page1.html\")\n",
    "print(html.read())"
   ]
  },
  {
   "cell_type": "code",
   "execution_count": 6,
   "id": "TTxdnCB0QTWH",
   "metadata": {
    "executionInfo": {
     "elapsed": 157,
     "status": "aborted",
     "timestamp": 1749196945270,
     "user": {
      "displayName": "­조재윤 | 기술경영학과 | 한양대(서울)",
      "userId": "02102681361620024159"
     },
     "user_tz": -540
    },
    "id": "TTxdnCB0QTWH"
   },
   "outputs": [
    {
     "name": "stdout",
     "output_type": "stream",
     "text": [
      "<h1>An Interesting Title</h1>\n"
     ]
    }
   ],
   "source": [
    "from urllib.request import urlopen\n",
    "from bs4 import BeautifulSoup\n",
    "html = urlopen(\"http://pythonscraping.com/pages/page1.html\")\n",
    "bsObj = BeautifulSoup(html.read(), \"html.parser\")\n",
    "print(bsObj.h1)"
   ]
  },
  {
   "cell_type": "code",
   "execution_count": 7,
   "id": "iRsL48UFQWMK",
   "metadata": {
    "executionInfo": {
     "elapsed": 113350,
     "status": "aborted",
     "timestamp": 1749196945271,
     "user": {
      "displayName": "­조재윤 | 기술경영학과 | 한양대(서울)",
      "userId": "02102681361620024159"
     },
     "user_tz": -540
    },
    "id": "iRsL48UFQWMK"
   },
   "outputs": [
    {
     "name": "stdout",
     "output_type": "stream",
     "text": [
      "<html>\n",
      " <head>\n",
      "  <title>\n",
      "   A Useful Page\n",
      "  </title>\n",
      " </head>\n",
      " <body>\n",
      "  <h1>\n",
      "   An Interesting Title\n",
      "  </h1>\n",
      "  <div>\n",
      "   Lorem ipsum dolor sit amet, consectetur adipisicing elit, sed do eiusmod tempor incididunt ut labore et dolore magna aliqua. Ut enim ad minim veniam, quis nostrud exercitation ullamco laboris nisi ut aliquip ex ea commodo consequat. Duis aute irure dolor in reprehenderit in voluptate velit esse cillum dolore eu fugiat nulla pariatur. Excepteur sint occaecat cupidatat non proident, sunt in culpa qui officia deserunt mollit anim id est laborum.\n",
      "  </div>\n",
      " </body>\n",
      "</html>\n",
      "\n"
     ]
    }
   ],
   "source": [
    "print(bsObj.html.prettify())"
   ]
  }
 ],
 "metadata": {
  "colab": {
   "provenance": []
  },
  "kernelspec": {
   "display_name": "Python 3 (ipykernel)",
   "language": "python",
   "name": "python3"
  },
  "language_info": {
   "codemirror_mode": {
    "name": "ipython",
    "version": 3
   },
   "file_extension": ".py",
   "mimetype": "text/x-python",
   "name": "python",
   "nbconvert_exporter": "python",
   "pygments_lexer": "ipython3",
   "version": "3.13.3"
  }
 },
 "nbformat": 4,
 "nbformat_minor": 5
}
